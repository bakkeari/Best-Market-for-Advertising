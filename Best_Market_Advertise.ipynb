{
 "cells": [
  {
   "cell_type": "markdown",
   "metadata": {
    "collapsed": true,
    "jupyter": {
     "outputs_hidden": true
    }
   },
   "source": [
    "# Finding the Best Market for Advertisement\n",
    "\n",
    "For this project, we are working for an e-learning company that offers courses on programming. Most courses are on web and mobile development but we also cover other domains like data science, game development, etc. Our objective is to find the two best markets to advertise in so we can promote our products effectively.\n",
    "\n",
    "Rather than organizing surveys across different markets which can be costly, we  are going to utilize existing data that has already been cleaned. The data we will use is  from freeCodeCamp's 2017 New Coder Survey which attracted new coders with varying interests which is ideal for the purpose of this analysis. The data can be found [here](https://github.com/freeCodeCamp/2017-new-coder-survey/tree/master/clean-data). Moving forward, the new coders will be referred to as participants in the survey.\n",
    "\n",
    "___\n",
    "### Table of Contents\n",
    "1. Introduction  \n",
    "2. Explore the Data  \n",
    "3. Analysis  \n",
    "    * 3.1 Sample Representativity  \n",
    "    * 3.2 Location and Density of Participants  \n",
    "    * 3.3 How Much are Participants Willing to Spend?  \n",
    "    * 3.4 Outliers  \n",
    "4. Results  \n",
    "5. Conclusion  \n",
    "\n",
    "___\n",
    "This project is part of the Junior Data Analyst course through DataQuest and focuses on statistics using Python and libraries such as Pandas, NumPy, Matplotlib, and Seaborn.\n",
    "\n",
    "## 2. Explore the Data"
   ]
  },
  {
   "cell_type": "code",
   "execution_count": 30,
   "metadata": {
    "collapsed": false,
    "jupyter": {
     "outputs_hidden": false
    }
   },
   "outputs": [
    {
     "name": "stdout",
     "output_type": "stream",
     "text": [
      "    Age  AttendedBootcamp  BootcampFinish  BootcampLoanYesNo BootcampName  \\\n",
      "0  27.0               0.0             NaN                NaN          NaN   \n",
      "1  34.0               0.0             NaN                NaN          NaN   \n",
      "2  21.0               0.0             NaN                NaN          NaN   \n",
      "3  26.0               0.0             NaN                NaN          NaN   \n",
      "4  20.0               0.0             NaN                NaN          NaN   \n",
      "\n",
      "   BootcampRecommend  ChildrenNumber                 CityPopulation  \\\n",
      "0                NaN             NaN            more than 1 million   \n",
      "1                NaN             NaN              less than 100,000   \n",
      "2                NaN             NaN            more than 1 million   \n",
      "3                NaN             NaN  between 100,000 and 1 million   \n",
      "4                NaN             NaN  between 100,000 and 1 million   \n",
      "\n",
      "   CodeEventConferences  CodeEventDjangoGirls         ...           \\\n",
      "0                   NaN                   NaN         ...            \n",
      "1                   NaN                   NaN         ...            \n",
      "2                   NaN                   NaN         ...            \n",
      "3                   NaN                   NaN         ...            \n",
      "4                   NaN                   NaN         ...            \n",
      "\n",
      "   YouTubeFCC  YouTubeFunFunFunction  YouTubeGoogleDev  YouTubeLearnCode  \\\n",
      "0         NaN                    NaN               NaN               NaN   \n",
      "1         1.0                    NaN               NaN               NaN   \n",
      "2         NaN                    NaN               NaN               1.0   \n",
      "3         1.0                    1.0               NaN               NaN   \n",
      "4         NaN                    NaN               NaN               NaN   \n",
      "\n",
      "   YouTubeLevelUpTuts  YouTubeMIT  YouTubeMozillaHacks YouTubeOther  \\\n",
      "0                 NaN         NaN                  NaN          NaN   \n",
      "1                 NaN         NaN                  NaN          NaN   \n",
      "2                 1.0         NaN                  NaN          NaN   \n",
      "3                 1.0         NaN                  NaN          NaN   \n",
      "4                 NaN         NaN                  NaN          NaN   \n",
      "\n",
      "   YouTubeSimplilearn  YouTubeTheNewBoston  \n",
      "0                 NaN                  NaN  \n",
      "1                 NaN                  NaN  \n",
      "2                 NaN                  NaN  \n",
      "3                 NaN                  NaN  \n",
      "4                 NaN                  NaN  \n",
      "\n",
      "[5 rows x 136 columns]\n"
     ]
    }
   ],
   "source": [
    "#Import necessary libraries\n",
    "import pandas as pd\n",
    "import numpy as np\n",
    "import matplotlib.pyplot as plt\n",
    "import seaborn as sns\n",
    "%matplotlib inline\n",
    "\n",
    "#Read in csv file\n",
    "new_code = pd. read_csv('2017-fCC-New-Coders-Survey-Data.csv', low_memory=False)\n",
    "\n",
    "#Print first 5 rows\n",
    "print(new_code.head(5))"
   ]
  },
  {
   "cell_type": "code",
   "execution_count": 31,
   "metadata": {
    "collapsed": false,
    "jupyter": {
     "outputs_hidden": false
    }
   },
   "outputs": [
    {
     "name": "stdout",
     "output_type": "stream",
     "text": [
      "(18175, 136)\n"
     ]
    }
   ],
   "source": [
    "print(new_code.shape)"
   ]
  },
  {
   "cell_type": "markdown",
   "metadata": {},
   "source": [
    "## 3. Analysis\n",
    "### 3.1 Sample Representativity\n",
    "For the purpose of our analysis we want to answer questions about a *population* of new coders.  \n",
    "  \n",
    "***Questions to Answer***:  \n",
    "Where are the new coders located?   \n",
    "What are the locations with the greatest number of new coders?  \n",
    "How much money new coders are willing to spend on learning?  \n",
    "\n",
    "Before we can start to analyze the data we need to find out if the data is representative for our population of interest and whether it has the right categories of people for our purpose.\n",
    "\n",
    "We will create a frequency distribution using the `JobRoleInterest` column"
   ]
  },
  {
   "cell_type": "code",
   "execution_count": 32,
   "metadata": {
    "collapsed": false,
    "jupyter": {
     "outputs_hidden": false
    }
   },
   "outputs": [
    {
     "name": "stdout",
     "output_type": "stream",
     "text": [
      "Full-Stack Web Developer                               11.770595\n",
      "  Front-End Web Developer                               6.435927\n",
      "  Data Scientist                                        2.173913\n",
      "Back-End Web Developer                                  2.030892\n",
      "  Mobile Developer                                      1.673341\n",
      "Game Developer                                          1.630435\n",
      "Information Security                                    1.315789\n",
      "Full-Stack Web Developer,   Front-End Web Developer     0.915332\n",
      "  Front-End Web Developer, Full-Stack Web Developer     0.800915\n",
      "  Product Manager                                       0.786613\n",
      "Name: JobRoleInterest, dtype: float64\n",
      "3213\n"
     ]
    }
   ],
   "source": [
    "#Create frequency distribution of JobRoleInterest column as percents\n",
    "job_freq = new_code['JobRoleInterest'].value_counts(normalize=True) * 100\n",
    "\n",
    "#Save as a series \n",
    "job_freq_series = pd.Series(job_freq).sort_values(ascending = False).dropna()\n",
    "\n",
    "print(job_freq_series.head(10))\n",
    "print(len(job_freq_series))\n",
    "    "
   ]
  },
  {
   "cell_type": "markdown",
   "metadata": {},
   "source": [
    "A quick look at the frequency distribution tells us that many participants are interested in Web and Mobile Development. We can also see that many people are interest in more than one job role. This still lends itself to a representative sample because people in the real world have many interests. Let's see how many participants are interested in either Web or Mobile Development."
   ]
  },
  {
   "cell_type": "code",
   "execution_count": 33,
   "metadata": {
    "collapsed": false,
    "jupyter": {
     "outputs_hidden": false
    }
   },
   "outputs": [
    {
     "name": "stdout",
     "output_type": "stream",
     "text": [
      "Full-Stack Web Developer     Yes\n",
      "  Front-End Web Developer    Yes\n",
      "  Data Scientist              No\n",
      "Back-End Web Developer       Yes\n",
      "  Mobile Developer            No\n",
      "Name: mobile_or_web, dtype: object\n"
     ]
    }
   ],
   "source": [
    "#Create dataframe out of job_freq_series\n",
    "job_freq_df = pd.Series.to_frame(job_freq_series)\n",
    "job_freq_df['interests'] = job_freq_df.index\n",
    "\n",
    "#Define function to determine if participant is interested in Web/Mobile Development\n",
    "def web_mobile(col):\n",
    "    if ('Web Developer' or 'Mobile Developer') in col:\n",
    "        return 'Yes'\n",
    "    else:\n",
    "        return 'No'\n",
    "    \n",
    "#Create new column and apply function\n",
    "job_freq_df['mobile_or_web'] = job_freq_df['interests'].apply(web_mobile)\n",
    "\n",
    "#Verify\n",
    "print(job_freq_df['mobile_or_web'].head(5))\n"
   ]
  },
  {
   "cell_type": "markdown",
   "metadata": {},
   "source": [
    "We have now created a column that tells us whether or not that participant is interested in Web or Mobile Development. Let's visualize this distribution with a pie chart."
   ]
  },
  {
   "cell_type": "code",
   "execution_count": 34,
   "metadata": {
    "collapsed": false,
    "jupyter": {
     "outputs_hidden": false
    }
   },
   "outputs": [
    {
     "data": {
      "image/png": "[encoded data removed]",
      "text/plain": [
       "<matplotlib.figure.Figure at 0x7f2d60b1e8d0>"
      ]
     },
     "metadata": {},
     "output_type": "display_data"
    }
   ],
   "source": [
    "mobile_web_counts = job_freq_df['mobile_or_web'].value_counts()\n",
    "labels = 'Yes', 'No'\n",
    "fig, ax = plt.subplots(figsize = (5,5))\n",
    "ax.pie(mobile_web_counts, labels = labels, autopct='%1.1f%%', colors= ['lightblue','coral'])\n",
    "ax.legend()\n",
    "ax.set_title('Participants Interested in Web or Mobile Development')\n",
    "plt.show()\n"
   ]
  },
  {
   "cell_type": "markdown",
   "metadata": {},
   "source": [
    "Now we can see that **87.9% of participants** are interested in Web or Mobile Development so the e-learning company should continue their emphasis in these areas.\n",
    "\n",
    "### 3.2 Location and Densities of Participants\n",
    "Next we will use the `CountryLive` column to determine where our participants currently live and how many other coders live there. This will tell us where we can concentrate marketing efforts to have the biggest impact."
   ]
  },
  {
   "cell_type": "code",
   "execution_count": 35,
   "metadata": {
    "collapsed": false,
    "jupyter": {
     "outputs_hidden": false
    }
   },
   "outputs": [
    {
     "name": "stdout",
     "output_type": "stream",
     "text": [
      "                          Absolute Frequency  Percentage\n",
      "United States of America                3125   45.700497\n",
      "India                                    528    7.721556\n",
      "United Kingdom                           315    4.606610\n",
      "Canada                                   260    3.802281\n",
      "Poland                                   131    1.915765\n",
      "Brazil                                   129    1.886517\n",
      "Germany                                  125    1.828020\n",
      "Australia                                112    1.637906\n",
      "Russia                                   102    1.491664\n",
      "Ukraine                                   89    1.301550\n"
     ]
    }
   ],
   "source": [
    "#Drop participants who did not indicate a role they were interested in\n",
    "new_code_copy = new_code[new_code['JobRoleInterest'].notnull()].copy()\n",
    "\n",
    "#Absolute and relative frequencies\n",
    "absolute = new_code_copy['CountryLive'].value_counts()\n",
    "percentages = new_code_copy['CountryLive'].value_counts(normalize=True)*100\n",
    "\n",
    "#Create Dataframe\n",
    "frequency_df = pd.DataFrame(data= {'Absolute Frequency': absolute, 'Percentage': percentages})\n",
    "print(frequency_df.head(10))\n",
    "\n"
   ]
  },
  {
   "cell_type": "markdown",
   "metadata": {},
   "source": [
    "Our absolute and relative frequencies show us that the United States of America and India have the highest proportion of participants in the survey. We could stop our analysis there and say that these are the two best countries to focus marketing efforts but let's continue and find out how much participants are willing to spend on learning. We might find that participants in the United Kingdom (the country with third highest number of participants) are willing to spend a lot more money than most countries so we want to make sure we are targeting the right audience.\n",
    "\n",
    "### 3.3 How Much are Participants Willing to Spend?\n",
    "We will use the top 4 countries (United states of America, India, United Kingdom and Canada) because they have the highest frequencies and we want to target English-Speaking audiences since our courses are in English.\n",
    "\n",
    "We will use the `MoneyForLearning` column to discover how much each participant spends *per month*. This column describes (in American dollars) how much money is spent by each participant from the moment they start coding to when they completed the survey.\n",
    "\n",
    "We will divide the `MoneyForLearning` column by the `Months Programming` column. Some participants answered that they had been learning to code for 0 months (they may have taken the survey as they began coding) so we will replace 0 months with 1 month to avoid dividing by \n",
    "0."
   ]
  },
  {
   "cell_type": "code",
   "execution_count": 36,
   "metadata": {
    "collapsed": false,
    "jupyter": {
     "outputs_hidden": false
    }
   },
   "outputs": [
    {
     "name": "stdout",
     "output_type": "stream",
     "text": [
      "1     13.333333\n",
      "2    200.000000\n",
      "3      0.000000\n",
      "4      0.000000\n",
      "6      0.000000\n",
      "Name: money_per_month, dtype: float64\n"
     ]
    }
   ],
   "source": [
    "#Replace 0 months with 1 month\n",
    "new_code_copy['MonthsProgramming'].replace(0,1, inplace=True)\n",
    "\n",
    "#Create new column by dividing MoneyForLearning by MonthsProgramming\n",
    "new_code_copy['money_per_month'] = new_code_copy['MoneyForLearning'] / new_code_copy['MonthsProgramming']\n",
    "\n",
    "#Drop NaN rows\n",
    "new_code_copy = new_code_copy[new_code_copy['money_per_month'].notnull()]\n",
    "\n",
    "#Verify new column\n",
    "print(new_code_copy['money_per_month'].head())\n"
   ]
  },
  {
   "cell_type": "markdown",
   "metadata": {},
   "source": [
    "Now we have our new column that shows us how much money each participant has spent per month since they started coding. Next we will group the data by the `CountryLive` column and find out how much money a particicpant spends on average for each country.\n",
    "\n",
    "First we will remove participants who have NaN in `CountryLive` because they don't contribute to our analysis."
   ]
  },
  {
   "cell_type": "code",
   "execution_count": 37,
   "metadata": {
    "collapsed": false,
    "jupyter": {
     "outputs_hidden": false
    }
   },
   "outputs": [
    {
     "name": "stdout",
     "output_type": "stream",
     "text": [
      "United States of America    2933\n",
      "India                        463\n",
      "United Kingdom               279\n",
      "Canada                       240\n",
      "Name: CountryLive, dtype: int64\n"
     ]
    }
   ],
   "source": [
    "new_code_copy = new_code_copy[new_code_copy['CountryLive'].notnull()]\n",
    "print(new_code_copy['CountryLive'].value_counts().head(4))"
   ]
  },
  {
   "cell_type": "code",
   "execution_count": 38,
   "metadata": {
    "collapsed": false,
    "jupyter": {
     "outputs_hidden": false
    }
   },
   "outputs": [
    {
     "name": "stdout",
     "output_type": "stream",
     "text": [
      "Total/Country \n",
      " CountryLive\n",
      "United States of America    668718.121808\n",
      "India                        62551.754651\n",
      "Spain                        51780.503537\n",
      "Australia                    42765.382132\n",
      "Puerto Rico                  30039.761905\n",
      "Canada                       27242.630637\n",
      "Russia                       22484.607143\n",
      "Nigeria                      17085.843915\n",
      "Austria                      14979.333333\n",
      "United Kingdom               12704.109639\n",
      "Name: money_per_month, dtype: float64\n",
      "\n",
      "\n",
      "Average per Participant \n",
      " CountryLive\n",
      "Yemen                10000.000000\n",
      "Puerto Rico           4291.394558\n",
      "Austria                936.208333\n",
      "Spain                  784.553084\n",
      "Jamaica                747.037037\n",
      "Hong Kong              523.341049\n",
      "Trinidad & Tobago      500.000000\n",
      "Australia              419.268452\n",
      "Taiwan                 417.966524\n",
      "Luxembourg             338.817664\n",
      "Name: money_per_month, dtype: float64\n",
      "\n",
      "\n",
      "Top 4 Average \n",
      " CountryLive\n",
      "United States of America    227.997996\n",
      "India                       135.100982\n",
      "United Kingdom               45.534443\n",
      "Canada                      113.510961\n",
      "Name: money_per_month, dtype: float64\n"
     ]
    }
   ],
   "source": [
    "#Calculate total amount of payments per month for each country\n",
    "total_country = new_code_copy.groupby('CountryLive')['money_per_month'].sum().sort_values(ascending=False)\n",
    "mean_country  = new_code_copy.groupby('CountryLive')['money_per_month'].mean().sort_values(ascending=False)\n",
    "\n",
    "#Filter for top 4 countries\n",
    "top_4 = mean_country[['United States of America', 'India', 'United Kingdom', 'Canada']]\n",
    "print('Total/Country', '\\n', total_country.head(10))\n",
    "print('\\n')\n",
    "print('Average per Participant',  '\\n', mean_country.head(10))\n",
    "print('\\n')\n",
    "print(\n",
    "'Top 4 Average', '\\n', top_4)"
   ]
  },
  {
   "cell_type": "markdown",
   "metadata": {},
   "source": [
    "The United States is the big spender within our top 4 countries (at $227.99) but it is interesting to note that it is not even in the top 10 when including all other countries. That may mean that countries like Yemen and Puerto Rico have a small number of participants that are willing to spend a lot of money. Participants in the United States spend less but contribute more due to a larger number of participants\n",
    "\n",
    "Another key point is that both Spain and Puerto Rico were in the top 10 for total country revenue as well as average per participant. These countries were not included in the top 4 because they did not have a high enough number of participants. This points to the fact that a smaller number of participants are willing to pay more money for e-learning. This may be an important untapped market if they are already contributing a large amount of revenue with a small number of participants\n",
    "\n",
    "###  3.4 Outliers\n",
    "Let's create a boxplot to see if perhaps there are any outliers that are skewing the data. The results for the average money spent per month of the United Kingdom and Canada seem to be pretty low relative to the values we see for India. This could be due to not having enough representative data, outliers, or our data is correct and there really is a big difference. Let's check by looking for outliers."
   ]
  },
  {
   "cell_type": "code",
   "execution_count": 39,
   "metadata": {
    "collapsed": false,
    "jupyter": {
     "outputs_hidden": false
    }
   },
   "outputs": [
    {
     "name": "stderr",
     "output_type": "stream",
     "text": [
      "/dataquest/system/env/python3/lib/python3.4/site-packages/seaborn/categorical.py:454: FutureWarning:\n",
      "\n",
      "remove_na is deprecated and is a private function. Do not use.\n",
      "\n"
     ]
    },
    {
     "data": {
      "image/png": "[encoded data removed]",
      "text/plain": [
       "<matplotlib.figure.Figure at 0x7f2da2e74320>"
      ]
     },
     "metadata": {},
     "output_type": "display_data"
    }
   ],
   "source": [
    "#Assign plot style\n",
    "plt.style.use('fivethirtyeight')\n",
    "\n",
    "#Store df for use in plot\n",
    "UK = new_code_copy[new_code_copy['CountryLive'] == 'United Kingdom']\n",
    "India = new_code_copy[new_code_copy['CountryLive'] == 'India']\n",
    "USA = new_code_copy[new_code_copy['CountryLive'] == 'United States of America']\n",
    "Canada = new_code_copy[new_code_copy['CountryLive'] == 'Canada']\n",
    "top_4_df = pd.concat([UK, India, USA, Canada])\n",
    "\n",
    "#Create boxplot\n",
    "sns.boxplot(data = top_4_df,\n",
    "           x = 'CountryLive',\n",
    "           y =  'money_per_month')\n",
    "plt.ylim(0, 85000)\n",
    "plt.title('Money Spent Per Month By Country')\n",
    "plt.xlabel('Country')\n",
    "plt.ylabel('Money Per Month ($)')\n",
    "plt.xticks(range(4), ['UK', 'India', 'USA', 'Canada'])\n",
    "plt.show()\n",
    "\n"
   ]
  },
  {
   "cell_type": "markdown",
   "metadata": {},
   "source": [
    "We can easily see that the United States has a few outliers and India as well. Let's get rid of those outliers and recalculate the average money spent per month."
   ]
  },
  {
   "cell_type": "code",
   "execution_count": 40,
   "metadata": {
    "collapsed": false,
    "jupyter": {
     "outputs_hidden": false
    }
   },
   "outputs": [
    {
     "name": "stdout",
     "output_type": "stream",
     "text": [
      "CountryLive\n",
      "Canada                       93.065400\n",
      "India                        81.812102\n",
      "United Kingdom               45.534443\n",
      "United States of America    130.639017\n",
      "Name: money_per_month, dtype: float64\n"
     ]
    }
   ],
   "source": [
    "#Filter out rows where participants spend more than $5000 per month\n",
    "top_4_good = top_4_df[top_4_df['money_per_month'] < 5000]\n",
    "\n",
    "#recalculate the mean for top 4 countries\n",
    "top_4_avg = top_4_good.groupby('CountryLive')['money_per_month'].mean()\n",
    "print(top_4_avg)"
   ]
  },
  {
   "cell_type": "markdown",
   "metadata": {},
   "source": [
    "##  4. Results\n",
    "\n",
    "| Country | Average Spent/Month | Average Spent W/O Outliers |\n",
    "| ------- | :-------------------: | :------------------------:|\n",
    "| USA | 227.99   |   130.64 |\n",
    "| India  |  135.10 |  81.81 |\n",
    "| UK | 45.53 | 45.53 |\n",
    "| Canada | 113.50 | 93.07 |\n",
    "\n",
    "We removed the outliers and recalculated the average amount of money spent per month by each country and the results are interesting. The United States still spends the most per month out of the top 4 countries. However, initially India was in second highest at 135 per month. After removing the outliers, India fell to third place with 81 per month. Canada moved up to second place with 93 per month.\n",
    "\n",
    "## 5. Conclusion\n",
    "Our aim for this project is to choose the two best countries where the company can focus marketing efforts.  \n",
    "\n",
    "Of the top 4 countries to market in, the United States was still the highest total and average monthly yield, and the country with the second highest average monthly payments was Canada. However, India spends less than 12 fewer dollars per student on average, the company has already had more success securing paying students in India than Canada, and the population of India is vastly greater than Canada. So deciding which country to market in out of the two comes down to one question: Will the potential for higher volume sales in India offset the increased per person revenue gained from Canadian customers.  \n",
    "\n",
    "It would probably be best to focus marketing in India (rather than Canada) just due to the fact that India has a much bigger population to be reached and they are still willing to spend a decent amount of money per month. However, we will send this analysis to the marketing team and they can use their domain expertise to make a decision.\n",
    "\n",
    "**The only things we can say for certain is that the United States is the best market for the company to pursue and they should continue emphasizing courses that offer Web and Mobile Development.**"
   ]
  },
  {
   "cell_type": "code",
   "execution_count": null,
   "metadata": {},
   "outputs": [],
   "source": []
  },
  {
   "cell_type": "code",
   "execution_count": null,
   "metadata": {},
   "outputs": [],
   "source": []
  }
 ],
 "metadata": {
  "kernelspec": {
   "display_name": "Python 3 (ipykernel)",
   "language": "python",
   "name": "python3"
  },
  "language_info": {
   "codemirror_mode": {
    "name": "ipython",
    "version": 3
   },
   "file_extension": ".py",
   "mimetype": "text/x-python",
   "name": "python",
   "nbconvert_exporter": "python",
   "pygments_lexer": "ipython3",
   "version": "3.11.7"
  }
 },
 "nbformat": 4,
 "nbformat_minor": 4
}
